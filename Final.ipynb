{
  "nbformat": 4,
  "nbformat_minor": 0,
  "metadata": {
    "colab": {
      "name": "Final.ipynb",
      "provenance": [],
      "authorship_tag": "ABX9TyMYIM9dgSJBPgRG6nPUwNkc",
      "include_colab_link": true
    },
    "kernelspec": {
      "name": "python3",
      "display_name": "Python 3"
    }
  },
  "cells": [
    {
      "cell_type": "markdown",
      "metadata": {
        "id": "view-in-github",
        "colab_type": "text"
      },
      "source": [
        "<a href=\"https://colab.research.google.com/github/TrunnMosby/Time-Series-Forecasting-Using-FBprophet/blob/main/Final.ipynb\" target=\"_parent\"><img src=\"https://colab.research.google.com/assets/colab-badge.svg\" alt=\"Open In Colab\"/></a>"
      ]
    },
    {
      "cell_type": "code",
      "metadata": {
        "id": "TxBsYu_woeam"
      },
      "source": [
        "URL='https://query1.finance.yahoo.com/v7/finance/download/GOOG?'\r\n"
      ],
      "execution_count": null,
      "outputs": []
    },
    {
      "cell_type": "code",
      "metadata": {
        "id": "7lDCrNHBoqfZ"
      },
      "source": [
        "params = {\r\n",
        "    'range': '5y',\r\n",
        "    'interval':'1d',\r\n",
        "    'events':'history'\r\n",
        "}"
      ],
      "execution_count": null,
      "outputs": []
    },
    {
      "cell_type": "code",
      "metadata": {
        "id": "6BavWYqOovOL"
      },
      "source": [
        "\r\n",
        "import re\r\n",
        "import json\r\n",
        "import csv\r\n",
        "from io import StringIO\r\n",
        "from bs4 import BeautifulSoup\r\n",
        "import requests"
      ],
      "execution_count": null,
      "outputs": []
    },
    {
      "cell_type": "code",
      "metadata": {
        "id": "pYOZwJQgo0X8"
      },
      "source": [
        "response = requests.get(URL, params=params)"
      ],
      "execution_count": null,
      "outputs": []
    },
    {
      "cell_type": "code",
      "metadata": {
        "id": "sZyC9w5-o4jY"
      },
      "source": [
        "import pandas as pd\r\n",
        "\r\n",
        "file = StringIO(response.text)\r\n",
        "reader = csv.reader(file)\r\n",
        "data = pd.DataFrame(reader)\r\n",
        "\r\n",
        "\r\n"
      ],
      "execution_count": null,
      "outputs": []
    },
    {
      "cell_type": "code",
      "metadata": {
        "colab": {
          "base_uri": "https://localhost:8080/",
          "height": 402
        },
        "id": "Uk-I3W0NpBlK",
        "outputId": "ab5d8fe7-14d9-41b0-e969-ae112ff73d5b"
      },
      "source": [
        "data"
      ],
      "execution_count": null,
      "outputs": [
        {
          "output_type": "execute_result",
          "data": {
            "text/html": [
              "<div>\n",
              "<style scoped>\n",
              "    .dataframe tbody tr th:only-of-type {\n",
              "        vertical-align: middle;\n",
              "    }\n",
              "\n",
              "    .dataframe tbody tr th {\n",
              "        vertical-align: top;\n",
              "    }\n",
              "\n",
              "    .dataframe thead th {\n",
              "        text-align: right;\n",
              "    }\n",
              "</style>\n",
              "<table border=\"1\" class=\"dataframe\">\n",
              "  <thead>\n",
              "    <tr style=\"text-align: right;\">\n",
              "      <th></th>\n",
              "      <th>0</th>\n",
              "      <th>1</th>\n",
              "      <th>2</th>\n",
              "      <th>3</th>\n",
              "      <th>4</th>\n",
              "      <th>5</th>\n",
              "      <th>6</th>\n",
              "    </tr>\n",
              "  </thead>\n",
              "  <tbody>\n",
              "    <tr>\n",
              "      <th>0</th>\n",
              "      <td>Date</td>\n",
              "      <td>Open</td>\n",
              "      <td>High</td>\n",
              "      <td>Low</td>\n",
              "      <td>Close</td>\n",
              "      <td>Adj Close</td>\n",
              "      <td>Volume</td>\n",
              "    </tr>\n",
              "    <tr>\n",
              "      <th>1</th>\n",
              "      <td>2016-02-24</td>\n",
              "      <td>688.919983</td>\n",
              "      <td>700.000000</td>\n",
              "      <td>680.780029</td>\n",
              "      <td>699.559998</td>\n",
              "      <td>699.559998</td>\n",
              "      <td>1963600</td>\n",
              "    </tr>\n",
              "    <tr>\n",
              "      <th>2</th>\n",
              "      <td>2016-02-25</td>\n",
              "      <td>700.010010</td>\n",
              "      <td>705.979980</td>\n",
              "      <td>690.585022</td>\n",
              "      <td>705.750000</td>\n",
              "      <td>705.750000</td>\n",
              "      <td>1642200</td>\n",
              "    </tr>\n",
              "    <tr>\n",
              "      <th>3</th>\n",
              "      <td>2016-02-26</td>\n",
              "      <td>708.580017</td>\n",
              "      <td>713.429993</td>\n",
              "      <td>700.859985</td>\n",
              "      <td>705.070007</td>\n",
              "      <td>705.070007</td>\n",
              "      <td>2243500</td>\n",
              "    </tr>\n",
              "    <tr>\n",
              "      <th>4</th>\n",
              "      <td>2016-02-29</td>\n",
              "      <td>700.320007</td>\n",
              "      <td>710.890015</td>\n",
              "      <td>697.679993</td>\n",
              "      <td>697.770020</td>\n",
              "      <td>697.770020</td>\n",
              "      <td>2481100</td>\n",
              "    </tr>\n",
              "    <tr>\n",
              "      <th>...</th>\n",
              "      <td>...</td>\n",
              "      <td>...</td>\n",
              "      <td>...</td>\n",
              "      <td>...</td>\n",
              "      <td>...</td>\n",
              "      <td>...</td>\n",
              "      <td>...</td>\n",
              "    </tr>\n",
              "    <tr>\n",
              "      <th>1256</th>\n",
              "      <td>2021-02-18</td>\n",
              "      <td>2110.389893</td>\n",
              "      <td>2132.735107</td>\n",
              "      <td>2103.709961</td>\n",
              "      <td>2117.199951</td>\n",
              "      <td>2117.199951</td>\n",
              "      <td>1121600</td>\n",
              "    </tr>\n",
              "    <tr>\n",
              "      <th>1257</th>\n",
              "      <td>2021-02-19</td>\n",
              "      <td>2119.270020</td>\n",
              "      <td>2130.530029</td>\n",
              "      <td>2097.409912</td>\n",
              "      <td>2101.139893</td>\n",
              "      <td>2101.139893</td>\n",
              "      <td>1457400</td>\n",
              "    </tr>\n",
              "    <tr>\n",
              "      <th>1258</th>\n",
              "      <td>2021-02-22</td>\n",
              "      <td>2067.000000</td>\n",
              "      <td>2091.419922</td>\n",
              "      <td>2062.139893</td>\n",
              "      <td>2064.879883</td>\n",
              "      <td>2064.879883</td>\n",
              "      <td>1366200</td>\n",
              "    </tr>\n",
              "    <tr>\n",
              "      <th>1259</th>\n",
              "      <td>2021-02-23</td>\n",
              "      <td>2025.010010</td>\n",
              "      <td>2082.010010</td>\n",
              "      <td>2002.020020</td>\n",
              "      <td>2070.860107</td>\n",
              "      <td>2070.860107</td>\n",
              "      <td>1666500</td>\n",
              "    </tr>\n",
              "    <tr>\n",
              "      <th>1260</th>\n",
              "      <td>2021-02-24</td>\n",
              "      <td>2041.829956</td>\n",
              "      <td>2060.000000</td>\n",
              "      <td>2038.130005</td>\n",
              "      <td>2056.419922</td>\n",
              "      <td>2056.419922</td>\n",
              "      <td>242939</td>\n",
              "    </tr>\n",
              "  </tbody>\n",
              "</table>\n",
              "<p>1261 rows × 7 columns</p>\n",
              "</div>"
            ],
            "text/plain": [
              "               0            1            2  ...            4            5        6\n",
              "0           Date         Open         High  ...        Close    Adj Close   Volume\n",
              "1     2016-02-24   688.919983   700.000000  ...   699.559998   699.559998  1963600\n",
              "2     2016-02-25   700.010010   705.979980  ...   705.750000   705.750000  1642200\n",
              "3     2016-02-26   708.580017   713.429993  ...   705.070007   705.070007  2243500\n",
              "4     2016-02-29   700.320007   710.890015  ...   697.770020   697.770020  2481100\n",
              "...          ...          ...          ...  ...          ...          ...      ...\n",
              "1256  2021-02-18  2110.389893  2132.735107  ...  2117.199951  2117.199951  1121600\n",
              "1257  2021-02-19  2119.270020  2130.530029  ...  2101.139893  2101.139893  1457400\n",
              "1258  2021-02-22  2067.000000  2091.419922  ...  2064.879883  2064.879883  1366200\n",
              "1259  2021-02-23  2025.010010  2082.010010  ...  2070.860107  2070.860107  1666500\n",
              "1260  2021-02-24  2041.829956  2060.000000  ...  2056.419922  2056.419922   242939\n",
              "\n",
              "[1261 rows x 7 columns]"
            ]
          },
          "metadata": {
            "tags": []
          },
          "execution_count": 16
        }
      ]
    },
    {
      "cell_type": "code",
      "metadata": {
        "colab": {
          "base_uri": "https://localhost:8080/"
        },
        "id": "IbM9PBEmpP7u",
        "outputId": "cd49a3c2-44ba-43b8-834f-bb336f7b9c24"
      },
      "source": [
        "data[4].iloc[1:]"
      ],
      "execution_count": null,
      "outputs": [
        {
          "output_type": "execute_result",
          "data": {
            "text/plain": [
              "1        699.559998\n",
              "2        705.750000\n",
              "3        705.070007\n",
              "4        697.770020\n",
              "5        718.809998\n",
              "           ...     \n",
              "1256    2117.199951\n",
              "1257    2101.139893\n",
              "1258    2064.879883\n",
              "1259    2070.860107\n",
              "1260    2056.419922\n",
              "Name: 4, Length: 1260, dtype: object"
            ]
          },
          "metadata": {
            "tags": []
          },
          "execution_count": 18
        }
      ]
    },
    {
      "cell_type": "code",
      "metadata": {
        "colab": {
          "base_uri": "https://localhost:8080/",
          "height": 402
        },
        "id": "EoSi9ILSqYLs",
        "outputId": "3aaf73f9-2993-4720-9b28-481bdfd520f8"
      },
      "source": [
        "pd.DataFrame({'ds':data[0].iloc[1:],'y':data[4].iloc[1:]})"
      ],
      "execution_count": null,
      "outputs": [
        {
          "output_type": "execute_result",
          "data": {
            "text/html": [
              "<div>\n",
              "<style scoped>\n",
              "    .dataframe tbody tr th:only-of-type {\n",
              "        vertical-align: middle;\n",
              "    }\n",
              "\n",
              "    .dataframe tbody tr th {\n",
              "        vertical-align: top;\n",
              "    }\n",
              "\n",
              "    .dataframe thead th {\n",
              "        text-align: right;\n",
              "    }\n",
              "</style>\n",
              "<table border=\"1\" class=\"dataframe\">\n",
              "  <thead>\n",
              "    <tr style=\"text-align: right;\">\n",
              "      <th></th>\n",
              "      <th>ds</th>\n",
              "      <th>y</th>\n",
              "    </tr>\n",
              "  </thead>\n",
              "  <tbody>\n",
              "    <tr>\n",
              "      <th>1</th>\n",
              "      <td>2016-02-24</td>\n",
              "      <td>699.559998</td>\n",
              "    </tr>\n",
              "    <tr>\n",
              "      <th>2</th>\n",
              "      <td>2016-02-25</td>\n",
              "      <td>705.750000</td>\n",
              "    </tr>\n",
              "    <tr>\n",
              "      <th>3</th>\n",
              "      <td>2016-02-26</td>\n",
              "      <td>705.070007</td>\n",
              "    </tr>\n",
              "    <tr>\n",
              "      <th>4</th>\n",
              "      <td>2016-02-29</td>\n",
              "      <td>697.770020</td>\n",
              "    </tr>\n",
              "    <tr>\n",
              "      <th>5</th>\n",
              "      <td>2016-03-01</td>\n",
              "      <td>718.809998</td>\n",
              "    </tr>\n",
              "    <tr>\n",
              "      <th>...</th>\n",
              "      <td>...</td>\n",
              "      <td>...</td>\n",
              "    </tr>\n",
              "    <tr>\n",
              "      <th>1256</th>\n",
              "      <td>2021-02-18</td>\n",
              "      <td>2117.199951</td>\n",
              "    </tr>\n",
              "    <tr>\n",
              "      <th>1257</th>\n",
              "      <td>2021-02-19</td>\n",
              "      <td>2101.139893</td>\n",
              "    </tr>\n",
              "    <tr>\n",
              "      <th>1258</th>\n",
              "      <td>2021-02-22</td>\n",
              "      <td>2064.879883</td>\n",
              "    </tr>\n",
              "    <tr>\n",
              "      <th>1259</th>\n",
              "      <td>2021-02-23</td>\n",
              "      <td>2070.860107</td>\n",
              "    </tr>\n",
              "    <tr>\n",
              "      <th>1260</th>\n",
              "      <td>2021-02-24</td>\n",
              "      <td>2056.419922</td>\n",
              "    </tr>\n",
              "  </tbody>\n",
              "</table>\n",
              "<p>1260 rows × 2 columns</p>\n",
              "</div>"
            ],
            "text/plain": [
              "              ds            y\n",
              "1     2016-02-24   699.559998\n",
              "2     2016-02-25   705.750000\n",
              "3     2016-02-26   705.070007\n",
              "4     2016-02-29   697.770020\n",
              "5     2016-03-01   718.809998\n",
              "...          ...          ...\n",
              "1256  2021-02-18  2117.199951\n",
              "1257  2021-02-19  2101.139893\n",
              "1258  2021-02-22  2064.879883\n",
              "1259  2021-02-23  2070.860107\n",
              "1260  2021-02-24  2056.419922\n",
              "\n",
              "[1260 rows x 2 columns]"
            ]
          },
          "metadata": {
            "tags": []
          },
          "execution_count": 20
        }
      ]
    },
    {
      "cell_type": "code",
      "metadata": {
        "id": "0oekeGWTptcD"
      },
      "source": [
        "def Stock_Prediction(URL):\r\n",
        "  import pandas as pd\r\n",
        "  import numpy as np\r\n",
        "  import re\r\n",
        "  import json\r\n",
        "  import csv\r\n",
        "  from io import StringIO\r\n",
        "  from bs4 import BeautifulSoup\r\n",
        "  import requests\r\n",
        "  from fbprophet import Prophet\r\n",
        "  params = {\r\n",
        "    'range': '5y',\r\n",
        "    'interval':'1d',\r\n",
        "    'events':'history'\r\n",
        "  }\r\n",
        "  response = requests.get(URL, params=params)\r\n",
        "  file = StringIO(response.text)\r\n",
        "  reader = csv.reader(file)\r\n",
        "  data = pd.DataFrame(reader)\r\n",
        "  train=pd.DataFrame({'ds':data[0].iloc[1:],'y':data[4].iloc[1:]}) \r\n",
        "  train['ds']=pd.to_datetime(train['ds'])\r\n",
        "  New_month=[]\r\n",
        "  for i in pd.DatetimeIndex(train['ds']).day:\r\n",
        "      if(i>5):\r\n",
        "        New_month.append(0)\r\n",
        "      else:\r\n",
        "        New_month.append(1)\r\n",
        "  New_year=[]\r\n",
        "  for i,j in zip(pd.DatetimeIndex(train['ds']).day,pd.DatetimeIndex(train['ds']).month):\r\n",
        "    if(i==31 and j==12):\r\n",
        "      New_year.append(1)\r\n",
        "      \r\n",
        "    elif(i>=1and i<5 and j==1):\r\n",
        "      New_year.append(1)\r\n",
        "\r\n",
        "    else:\r\n",
        "      New_year.append(0)\r\n",
        "  train['New_year']=New_year\r\n",
        "  train['New_month']=New_month\r\n",
        "  m=Prophet(changepoint_prior_scale=3,holidays_prior_scale=0.001,changepoint_range=1,n_changepoints=150)\r\n",
        "  m.add_country_holidays(country_name='IN')\r\n",
        "  m.add_regressor('New_year')\r\n",
        "  m.add_regressor('New_month')\r\n",
        "  m.fit(train)\r\n",
        "  future=m.make_future_dataframe(periods=30)\r\n",
        "  for i in pd.DatetimeIndex(future['ds'].iloc[len(train):]).day:\r\n",
        "        if(i>5):\r\n",
        "          New_month.append(0)\r\n",
        "        else:\r\n",
        "          New_month.append(1)\r\n",
        "  for i,j in zip(pd.DatetimeIndex(future['ds'].iloc[len(train):]).day,pd.DatetimeIndex(future['ds'].iloc[len(train):]).month):\r\n",
        "      if(i==31 and j==12):\r\n",
        "        New_year.append(1)\r\n",
        "        \r\n",
        "      elif(i>=1and i<5 and j==1):\r\n",
        "        New_year.append(1)\r\n",
        "\r\n",
        "      else:\r\n",
        "        New_year.append(0)\r\n",
        "\r\n",
        "  df=pd.DataFrame({'ds':future['ds'],'New_year':New_year, 'New_month':New_month })\r\n",
        "  forecast=m.predict(df)\r\n",
        "  lower=[]\r\n",
        "  upper=[]\r\n",
        "  for i,j in zip(forecast['yhat_lower'],forecast['yhat']):\r\n",
        "        lower.append(j-i)\r\n",
        "  for i,j in zip(forecast['yhat_upper'],forecast['yhat']):\r\n",
        "        upper.append(i-j)\r\n",
        "\r\n",
        "  avg=[]\r\n",
        "  for i,j in zip(lower,upper):\r\n",
        "      avg.append((i+j)/2)\r\n",
        "   \r\n",
        "\r\n",
        "  error=[]\r\n",
        "  for i,j in zip(forecast['yhat'].iloc[len(train):],avg[len(train):]):\r\n",
        "        print(i,'+/-',j)\r\n",
        "        error.append(j/i)\r\n",
        "   \r\n",
        "  return m.plot(forecast),pd.DataFrame({'Date':future['ds'].iloc[len(train):],'Close':forecast['yhat'].iloc[len(train):],'Tolerance':avg[len(train):]}),np.array(error).mean(),max(error),min(error)\r\n"
      ],
      "execution_count": null,
      "outputs": []
    },
    {
      "cell_type": "code",
      "metadata": {
        "colab": {
          "base_uri": "https://localhost:8080/",
          "height": 1000
        },
        "id": "IsbmnTdWqyaH",
        "outputId": "996dd4c1-4139-4386-aa0c-71bace1524c3"
      },
      "source": [
        "Stock_Prediction('https://query1.finance.yahoo.com/v7/finance/download/GOOG?')"
      ],
      "execution_count": null,
      "outputs": [
        {
          "output_type": "stream",
          "text": [
            "INFO:fbprophet:Disabling daily seasonality. Run prophet with daily_seasonality=True to override this.\n",
            "/usr/local/lib/python3.7/dist-packages/fbprophet/hdays.py:259: Warning:\n",
            "\n",
            "We only support Diwali and Holi holidays from 2010 to 2030\n",
            "\n",
            "/usr/local/lib/python3.7/dist-packages/fbprophet/hdays.py:259: Warning:\n",
            "\n",
            "We only support Diwali and Holi holidays from 2010 to 2030\n",
            "\n",
            "/usr/local/lib/python3.7/dist-packages/fbprophet/hdays.py:259: Warning:\n",
            "\n",
            "We only support Diwali and Holi holidays from 2010 to 2030\n",
            "\n"
          ],
          "name": "stderr"
        },
        {
          "output_type": "stream",
          "text": [
            "2157.540398590544 +/- 33.2443255210444\n",
            "2163.373941051701 +/- 32.52552366558575\n",
            "2182.648887264857 +/- 31.323919077171922\n",
            "2188.635853485403 +/- 32.936640564905474\n",
            "2176.766936460691 +/- 32.112790356897676\n",
            "2183.4605528843526 +/- 32.51011881597651\n",
            "2190.9423524040485 +/- 34.66839206130794\n",
            "2196.0582851810386 +/- 33.054832947448176\n",
            "2200.2451146278654 +/- 33.33769646753967\n",
            "2219.5452601322354 +/- 34.6070691593377\n",
            "2223.935308631442 +/- 35.47267797255677\n",
            "2212.2008894257683 +/- 37.26628848261794\n",
            "2217.4648910942806 +/- 39.969965836310166\n",
            "2223.6416555002493 +/- 37.33212792648328\n",
            "2227.6014785612692 +/- 39.3621277549355\n",
            "2230.8025800403207 +/- 38.630362385754324\n",
            "2247.6435021177626 +/- 40.99219268677166\n",
            "2251.439223004032 +/- 41.65177128556502\n",
            "2239.323821232712 +/- 42.42481357248084\n",
            "2244.4264951961823 +/- 45.833108856369336\n",
            "2250.6637084096733 +/- 45.64163497742288\n",
            "2254.903735171898 +/- 50.71694128494369\n",
            "2258.598773639635 +/- 50.49280901818133\n",
            "2276.1375793175184 +/- 48.73520499645679\n",
            "2280.821896135831 +/- 53.68909919632915\n",
            "2269.7695096637394 +/- 54.50296303560731\n",
            "2276.0907142940673 +/- 57.168344403449055\n",
            "2283.680950942072 +/- 62.1257795102556\n",
            "2289.385875200961 +/- 64.4731186584645\n",
            "2294.634007922844 +/- 64.7176360842227\n"
          ],
          "name": "stdout"
        },
        {
          "output_type": "execute_result",
          "data": {
            "text/plain": [
              "(<Figure size 720x432 with 1 Axes>,            Date        Close  Tolerance\n",
              " 1259 2021-02-25  2157.540399  33.244326\n",
              " 1260 2021-02-26  2163.373941  32.525524\n",
              " 1261 2021-02-27  2182.648887  31.323919\n",
              " 1262 2021-02-28  2188.635853  32.936641\n",
              " 1263 2021-03-01  2176.766936  32.112790\n",
              " 1264 2021-03-02  2183.460553  32.510119\n",
              " 1265 2021-03-03  2190.942352  34.668392\n",
              " 1266 2021-03-04  2196.058285  33.054833\n",
              " 1267 2021-03-05  2200.245115  33.337696\n",
              " 1268 2021-03-06  2219.545260  34.607069\n",
              " 1269 2021-03-07  2223.935309  35.472678\n",
              " 1270 2021-03-08  2212.200889  37.266288\n",
              " 1271 2021-03-09  2217.464891  39.969966\n",
              " 1272 2021-03-10  2223.641656  37.332128\n",
              " 1273 2021-03-11  2227.601479  39.362128\n",
              " 1274 2021-03-12  2230.802580  38.630362\n",
              " 1275 2021-03-13  2247.643502  40.992193\n",
              " 1276 2021-03-14  2251.439223  41.651771\n",
              " 1277 2021-03-15  2239.323821  42.424814\n",
              " 1278 2021-03-16  2244.426495  45.833109\n",
              " 1279 2021-03-17  2250.663708  45.641635\n",
              " 1280 2021-03-18  2254.903735  50.716941\n",
              " 1281 2021-03-19  2258.598774  50.492809\n",
              " 1282 2021-03-20  2276.137579  48.735205\n",
              " 1283 2021-03-21  2280.821896  53.689099\n",
              " 1284 2021-03-22  2269.769510  54.502963\n",
              " 1285 2021-03-23  2276.090714  57.168344\n",
              " 1286 2021-03-24  2283.680951  62.125780\n",
              " 1287 2021-03-25  2289.385875  64.473119\n",
              " 1288 2021-03-26  2294.634008  64.717636, 0.01908607787231554, 0.02820390348123822, 0.014351332117565124)"
            ]
          },
          "metadata": {
            "tags": []
          },
          "execution_count": 10
        },
        {
          "output_type": "display_data",
          "data": {
            "image/png": "[encoded data removed]",
            "text/plain": [
              "<Figure size 720x432 with 1 Axes>"
            ]
          },
          "metadata": {
            "tags": []
          }
        }
      ]
    },
    {
      "cell_type": "code",
      "metadata": {
        "id": "Esh9TS58q_yS",
        "colab": {
          "base_uri": "https://localhost:8080/"
        },
        "outputId": "311ee36f-a017-4dea-a8ba-88923bd2bfee"
      },
      "source": [
        "import numpy as np\r\n",
        "\r\n",
        "a=[1,2,3]\r\n",
        "np.array(a).mean()"
      ],
      "execution_count": null,
      "outputs": [
        {
          "output_type": "execute_result",
          "data": {
            "text/plain": [
              "2.0"
            ]
          },
          "metadata": {
            "tags": []
          },
          "execution_count": 4
        }
      ]
    },
    {
      "cell_type": "code",
      "metadata": {
        "id": "F9UinUP2biKg"
      },
      "source": [
        ""
      ],
      "execution_count": null,
      "outputs": []
    }
  ]
}